{
 "cells": [
  {
   "cell_type": "code",
   "execution_count": 15,
   "metadata": {},
   "outputs": [
    {
     "name": "stderr",
     "output_type": "stream",
     "text": [
      "/Users/annabradleywebb/anaconda3/envs/metis/lib/python3.7/site-packages/pandas/core/generic.py:5303: SettingWithCopyWarning: \n",
      "A value is trying to be set on a copy of a slice from a DataFrame.\n",
      "Try using .loc[row_indexer,col_indexer] = value instead\n",
      "\n",
      "See the caveats in the documentation: https://pandas.pydata.org/pandas-docs/stable/user_guide/indexing.html#returning-a-view-versus-a-copy\n",
      "  self[name] = value\n"
     ]
    }
   ],
   "source": [
    "import pandas as pd\n",
    "from scipy.spatial.distance import pdist\n",
    "from scipy.spatial.distance import squareform\n",
    "from sklearn import preprocessing\n",
    "from Recommender import most_similar, most_similar_meta"
   ]
  },
  {
   "cell_type": "code",
   "execution_count": 16,
   "metadata": {},
   "outputs": [],
   "source": [
    "pd.set_option('display.max_colwidth', None)"
   ]
  },
  {
   "cell_type": "code",
   "execution_count": 17,
   "metadata": {},
   "outputs": [],
   "source": [
    "books = pd.read_pickle('/Users/annabradleywebb/PycharmProjects/Project5/Modeling/00_topic_modeling/all_data.pkl')"
   ]
  },
  {
   "cell_type": "code",
   "execution_count": 18,
   "metadata": {},
   "outputs": [],
   "source": [
    "#Dropping columns no longer needed:\n",
    "\n",
    "smaller_books = books.drop(['link','word_tokenized_description','lemmatized_description', 'edition_information', 'description', 'publisher', \n",
    "                   '1_generic', '2_spanish' ,'12_disregard', '23_award_winning_authors', '13_disregard', '30_disregard'], axis=1)"
   ]
  },
  {
   "cell_type": "code",
   "execution_count": 19,
   "metadata": {},
   "outputs": [],
   "source": [
    "de_duped_books = smaller_books.drop_duplicates('title')"
   ]
  },
  {
   "cell_type": "code",
   "execution_count": 23,
   "metadata": {},
   "outputs": [
    {
     "data": {
      "text/plain": [
       "Index(['index', 'gid', 'title', 'authors', 'avg_rating', 'ratings_count',\n",
       "       'text_reviews_count', 'num_pages', 'popular_shelves',\n",
       "       'publication_date', 'language_code', 'isbn', 'isbn13', 'bestseller',\n",
       "       '5-star', '4-star', '3-star', '2-star', '1-star', 'total',\n",
       "       '3_love_stories', '4_big_life_changes', '5_strong_characters',\n",
       "       '6_world_war_II', '7_family_sagas_intergenerational', '8_time_travel',\n",
       "       '9_erotic_vampires', '10_women', '11_murder_crime_mystery',\n",
       "       '14_places_journeys', '15_holidays_christmas_warmth', '16_world_global',\n",
       "       '17_generic', '18_family_parents', '19_men_power',\n",
       "       '20_business_choices', '21_parents_young_children', '22_historical_USA',\n",
       "       '24_science_fiction', '25_places_journeys', '26_firsts',\n",
       "       '27_friendship', '28_coming_home', '29_secret_discoveries'],\n",
       "      dtype='object')"
      ]
     },
     "execution_count": 23,
     "metadata": {},
     "output_type": "execute_result"
    }
   ],
   "source": [
    "de_duped_books.columns"
   ]
  },
  {
   "cell_type": "code",
   "execution_count": 86,
   "metadata": {},
   "outputs": [
    {
     "data": {
      "text/plain": [
       "0                          alone  detective d d  warren     \n",
       "1                                                  tick tock\n",
       "2           the girl with the dragon tattoo  millennium     \n",
       "3                                        water for elephants\n",
       "4             the girl who played with fire  millennium     \n",
       "                                ...                         \n",
       "8857    the secret of abdu el yezdi  burton   swinburne     \n",
       "8858                                               dark city\n",
       "8859                                                   breed\n",
       "8860                     defy the dawn  midnight breed      \n",
       "8861                                             storm glass\n",
       "Name: title, Length: 7561, dtype: object"
      ]
     },
     "execution_count": 86,
     "metadata": {},
     "output_type": "execute_result"
    }
   ],
   "source": [
    "de_duped_books.title"
   ]
  },
  {
   "cell_type": "code",
   "execution_count": 87,
   "metadata": {},
   "outputs": [
    {
     "data": {
      "text/plain": [
       "1049    9781476746609\n",
       "Name: isbn13, dtype: object"
      ]
     },
     "execution_count": 87,
     "metadata": {},
     "output_type": "execute_result"
    }
   ],
   "source": [
    "#Mask to find books to test\n",
    "mask = de_duped_books['title'].str.contains('all the light', regex=True)\n",
    "de_duped_books[mask].isbn13"
   ]
  },
  {
   "cell_type": "code",
   "execution_count": 88,
   "metadata": {},
   "outputs": [
    {
     "data": {
      "text/plain": [
       "'Main topics in the book you like: Big life changes, Places and journeys, The world You may also like The Enlightenment Of The Greengage Tree by [Shokoofeh Azar]. Its main topics are Big life changes, Family and parents, The world.'"
      ]
     },
     "execution_count": 88,
     "metadata": {},
     "output_type": "execute_result"
    }
   ],
   "source": [
    "most_similar(9781476746609)"
   ]
  },
  {
   "cell_type": "markdown",
   "metadata": {},
   "source": [
    "Good recommendations:\n",
    "  * Purity\n",
    "  * All the Light We Cannot See\n",
    "  * Americanah/Beautiful Ruins\n",
    "  * Cutting for Stone\n",
    "  * Pachinko\n",
    "  * The Power"
   ]
  }
 ],
 "metadata": {
  "kernelspec": {
   "display_name": "Python [conda env:metis] *",
   "language": "python",
   "name": "conda-env-metis-py"
  },
  "language_info": {
   "codemirror_mode": {
    "name": "ipython",
    "version": 3
   },
   "file_extension": ".py",
   "mimetype": "text/x-python",
   "name": "python",
   "nbconvert_exporter": "python",
   "pygments_lexer": "ipython3",
   "version": "3.7.4"
  }
 },
 "nbformat": 4,
 "nbformat_minor": 4
}
