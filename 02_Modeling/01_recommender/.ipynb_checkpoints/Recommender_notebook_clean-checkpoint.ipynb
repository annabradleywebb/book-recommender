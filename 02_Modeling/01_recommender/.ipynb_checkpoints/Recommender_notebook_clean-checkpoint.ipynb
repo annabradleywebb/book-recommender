{
 "cells": [
  {
   "cell_type": "code",
   "execution_count": 1,
   "metadata": {},
   "outputs": [
    {
     "name": "stderr",
     "output_type": "stream",
     "text": [
      "/Users/annabradleywebb/anaconda3/envs/metis/lib/python3.7/site-packages/pandas/core/generic.py:5303: SettingWithCopyWarning: \n",
      "A value is trying to be set on a copy of a slice from a DataFrame.\n",
      "Try using .loc[row_indexer,col_indexer] = value instead\n",
      "\n",
      "See the caveats in the documentation: https://pandas.pydata.org/pandas-docs/stable/user_guide/indexing.html#returning-a-view-versus-a-copy\n",
      "  self[name] = value\n"
     ]
    }
   ],
   "source": [
    "import pandas as pd\n",
    "from scipy.spatial.distance import pdist\n",
    "from scipy.spatial.distance import squareform\n",
    "from sklearn import preprocessing\n",
    "from Recommender import most_similar, most_similar_meta"
   ]
  },
  {
   "cell_type": "code",
   "execution_count": 2,
   "metadata": {},
   "outputs": [],
   "source": [
    "pd.set_option('display.max_colwidth', None)"
   ]
  },
  {
   "cell_type": "code",
   "execution_count": 3,
   "metadata": {},
   "outputs": [],
   "source": [
    "books = pd.read_pickle('/Users/annabradleywebb/PycharmProjects/Project5/Modeling/00_topic_modeling/all_data.pkl')"
   ]
  },
  {
   "cell_type": "code",
   "execution_count": 4,
   "metadata": {},
   "outputs": [],
   "source": [
    "#Dropping columns no longer needed:\n",
    "\n",
    "smaller_books = books.drop(['link','word_tokenized_description','lemmatized_description', 'edition_information', 'description', 'publisher', \n",
    "                   '1_generic', '2_spanish' ,'12_disregard', '23_award_winning_authors', '13_disregard', '30_disregard'], axis=1)"
   ]
  },
  {
   "cell_type": "code",
   "execution_count": 20,
   "metadata": {},
   "outputs": [],
   "source": [
    "de_duped_books = smaller_books.drop_duplicates('title')"
   ]
  },
  {
   "cell_type": "code",
   "execution_count": 194,
   "metadata": {},
   "outputs": [
    {
     "data": {
      "text/plain": [
       "2414    9781455563913\n",
       "Name: isbn13, dtype: int64"
      ]
     },
     "execution_count": 194,
     "metadata": {},
     "output_type": "execute_result"
    }
   ],
   "source": [
    "#Mask to find books to test\n",
    "mask = de_duped_books['title'].str.contains('pachinko', regex=True)\n",
    "de_duped_books[mask].isbn13"
   ]
  },
  {
   "cell_type": "code",
   "execution_count": 195,
   "metadata": {},
   "outputs": [
    {
     "data": {
      "text/plain": [
       "'Main topics in the book you like: Family sagas/intergenerational, Historical fiction - USA, Big life changes You may also like Inheritance by [Balli Kaur Jaswal]. Its main topics are Family sagas/intergenerational, Places and journeys, Big life changes.'"
      ]
     },
     "execution_count": 195,
     "metadata": {},
     "output_type": "execute_result"
    }
   ],
   "source": [
    "most_similar(9781455563913)"
   ]
  },
  {
   "cell_type": "code",
   "execution_count": 196,
   "metadata": {},
   "outputs": [
    {
     "data": {
      "text/plain": [
       "'You entered: Pachinko by [Min Jin Lee]. You might also like Winter Solstice  Winter     by [Elin Hilderbrand].'"
      ]
     },
     "execution_count": 196,
     "metadata": {},
     "output_type": "execute_result"
    }
   ],
   "source": [
    "most_similar_meta(9781455563913)"
   ]
  },
  {
   "cell_type": "markdown",
   "metadata": {},
   "source": [
    "Good recommendations:\n",
    "  * Purity\n",
    "  * All the Light We Cannot See\n",
    "  * Americanah/Beautiful Ruins\n",
    "  * Cutting for Stone\n",
    "  * Pachinko\n",
    "  * The Power"
   ]
  }
 ],
 "metadata": {
  "kernelspec": {
   "display_name": "Python [conda env:metis] *",
   "language": "python",
   "name": "conda-env-metis-py"
  },
  "language_info": {
   "codemirror_mode": {
    "name": "ipython",
    "version": 3
   },
   "file_extension": ".py",
   "mimetype": "text/x-python",
   "name": "python",
   "nbconvert_exporter": "python",
   "pygments_lexer": "ipython3",
   "version": "3.7.4"
  }
 },
 "nbformat": 4,
 "nbformat_minor": 4
}
