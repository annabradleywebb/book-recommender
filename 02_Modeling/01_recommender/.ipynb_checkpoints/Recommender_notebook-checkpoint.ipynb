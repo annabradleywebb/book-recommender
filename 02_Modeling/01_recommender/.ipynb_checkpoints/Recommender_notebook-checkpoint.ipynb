{
 "cells": [
  {
   "cell_type": "code",
   "execution_count": 1,
   "metadata": {},
   "outputs": [],
   "source": [
    "import pandas as pd\n",
    "from scipy.spatial.distance import pdist\n",
    "from scipy.spatial.distance import squareform\n",
    "from sklearn import preprocessing\n",
    "from Recommender import most_similar, most_similar_meta"
   ]
  },
  {
   "cell_type": "code",
   "execution_count": 10,
   "metadata": {},
   "outputs": [],
   "source": [
    "books = pd.read_pickle('/Users/annabradleywebb/PycharmProjects/Project5/Modeling/00_topic_modeling/all_data.pkl')"
   ]
  },
  {
   "cell_type": "code",
   "execution_count": 11,
   "metadata": {},
   "outputs": [],
   "source": [
    "pd.set_option('display.max_colwidth', None)"
   ]
  },
  {
   "cell_type": "code",
   "execution_count": 12,
   "metadata": {},
   "outputs": [],
   "source": [
    "#Dropping columns no longer needed:\n",
    "\n",
    "smaller_books = books.drop(['link','word_tokenized_description','lemmatized_description', 'edition_information', 'description', 'publisher', \n",
    "                   '1_generic', '2_spanish' ,'12_disregard', '23_award_winning_authors', '13_disregard', '30_disregard'], axis=1)"
   ]
  },
  {
   "cell_type": "code",
   "execution_count": 13,
   "metadata": {},
   "outputs": [],
   "source": [
    "de_duped_books = smaller_books.drop_duplicates('title')"
   ]
  },
  {
   "cell_type": "code",
   "execution_count": 27,
   "metadata": {},
   "outputs": [
    {
     "data": {
      "text/plain": [
       "1    9780316129183\n",
       "Name: isbn13, dtype: object"
      ]
     },
     "execution_count": 27,
     "metadata": {},
     "output_type": "execute_result"
    }
   ],
   "source": [
    "de_duped_books.loc[[1]]['isbn13']"
   ]
  },
  {
   "cell_type": "code",
   "execution_count": 21,
   "metadata": {
    "scrolled": true
   },
   "outputs": [
    {
     "ename": "KeyError",
     "evalue": "\"None of [Int64Index([32], dtype='int64')] are in the [index]\"",
     "output_type": "error",
     "traceback": [
      "\u001b[0;31m---------------------------------------------------------------------------\u001b[0m",
      "\u001b[0;31mKeyError\u001b[0m                                  Traceback (most recent call last)",
      "\u001b[0;32m<ipython-input-21-b5596ce01083>\u001b[0m in \u001b[0;36m<module>\u001b[0;34m\u001b[0m\n\u001b[1;32m      1\u001b[0m \u001b[0;32mfor\u001b[0m \u001b[0mi\u001b[0m \u001b[0;32min\u001b[0m \u001b[0mrange\u001b[0m\u001b[0;34m(\u001b[0m\u001b[0mlen\u001b[0m\u001b[0;34m(\u001b[0m\u001b[0mde_duped_books\u001b[0m\u001b[0;34m)\u001b[0m\u001b[0;34m)\u001b[0m\u001b[0;34m:\u001b[0m\u001b[0;34m\u001b[0m\u001b[0;34m\u001b[0m\u001b[0m\n\u001b[0;32m----> 2\u001b[0;31m     \u001b[0;32mif\u001b[0m \u001b[0mtype\u001b[0m\u001b[0;34m(\u001b[0m\u001b[0mde_duped_books\u001b[0m\u001b[0;34m.\u001b[0m\u001b[0mloc\u001b[0m\u001b[0;34m[\u001b[0m\u001b[0;34m[\u001b[0m\u001b[0mi\u001b[0m\u001b[0;34m]\u001b[0m\u001b[0;34m]\u001b[0m\u001b[0;34m[\u001b[0m\u001b[0;34m'isbn13'\u001b[0m\u001b[0;34m]\u001b[0m\u001b[0;34m)\u001b[0m \u001b[0;34m==\u001b[0m \u001b[0mstr\u001b[0m\u001b[0;34m:\u001b[0m\u001b[0;34m\u001b[0m\u001b[0;34m\u001b[0m\u001b[0m\n\u001b[0m\u001b[1;32m      3\u001b[0m         \u001b[0mde_duped_books\u001b[0m\u001b[0;34m.\u001b[0m\u001b[0mloc\u001b[0m\u001b[0;34m[\u001b[0m\u001b[0;34m[\u001b[0m\u001b[0mi\u001b[0m\u001b[0;34m]\u001b[0m\u001b[0;34m]\u001b[0m\u001b[0;34m[\u001b[0m\u001b[0;34m'isbn13'\u001b[0m\u001b[0;34m]\u001b[0m \u001b[0;34m=\u001b[0m \u001b[0mde_duped_books\u001b[0m\u001b[0;34m.\u001b[0m\u001b[0mloc\u001b[0m\u001b[0;34m[\u001b[0m\u001b[0;34m[\u001b[0m\u001b[0mi\u001b[0m\u001b[0;34m]\u001b[0m\u001b[0;34m]\u001b[0m\u001b[0;34m[\u001b[0m\u001b[0;34m'isbn13'\u001b[0m\u001b[0;34m]\u001b[0m\u001b[0;34m.\u001b[0m\u001b[0mstr\u001b[0m\u001b[0;34m.\u001b[0m\u001b[0mreplace\u001b[0m\u001b[0;34m(\u001b[0m\u001b[0;34m\"'\"\u001b[0m\u001b[0;34m,\u001b[0m \u001b[0;34m''\u001b[0m\u001b[0;34m)\u001b[0m\u001b[0;34m\u001b[0m\u001b[0;34m\u001b[0m\u001b[0m\n",
      "\u001b[0;32m~/anaconda3/envs/metis/lib/python3.7/site-packages/pandas/core/indexing.py\u001b[0m in \u001b[0;36m__getitem__\u001b[0;34m(self, key)\u001b[0m\n\u001b[1;32m   1766\u001b[0m \u001b[0;34m\u001b[0m\u001b[0m\n\u001b[1;32m   1767\u001b[0m             \u001b[0mmaybe_callable\u001b[0m \u001b[0;34m=\u001b[0m \u001b[0mcom\u001b[0m\u001b[0;34m.\u001b[0m\u001b[0mapply_if_callable\u001b[0m\u001b[0;34m(\u001b[0m\u001b[0mkey\u001b[0m\u001b[0;34m,\u001b[0m \u001b[0mself\u001b[0m\u001b[0;34m.\u001b[0m\u001b[0mobj\u001b[0m\u001b[0;34m)\u001b[0m\u001b[0;34m\u001b[0m\u001b[0;34m\u001b[0m\u001b[0m\n\u001b[0;32m-> 1768\u001b[0;31m             \u001b[0;32mreturn\u001b[0m \u001b[0mself\u001b[0m\u001b[0;34m.\u001b[0m\u001b[0m_getitem_axis\u001b[0m\u001b[0;34m(\u001b[0m\u001b[0mmaybe_callable\u001b[0m\u001b[0;34m,\u001b[0m \u001b[0maxis\u001b[0m\u001b[0;34m=\u001b[0m\u001b[0maxis\u001b[0m\u001b[0;34m)\u001b[0m\u001b[0;34m\u001b[0m\u001b[0;34m\u001b[0m\u001b[0m\n\u001b[0m\u001b[1;32m   1769\u001b[0m \u001b[0;34m\u001b[0m\u001b[0m\n\u001b[1;32m   1770\u001b[0m     \u001b[0;32mdef\u001b[0m \u001b[0m_is_scalar_access\u001b[0m\u001b[0;34m(\u001b[0m\u001b[0mself\u001b[0m\u001b[0;34m,\u001b[0m \u001b[0mkey\u001b[0m\u001b[0;34m:\u001b[0m \u001b[0mTuple\u001b[0m\u001b[0;34m)\u001b[0m\u001b[0;34m:\u001b[0m\u001b[0;34m\u001b[0m\u001b[0;34m\u001b[0m\u001b[0m\n",
      "\u001b[0;32m~/anaconda3/envs/metis/lib/python3.7/site-packages/pandas/core/indexing.py\u001b[0m in \u001b[0;36m_getitem_axis\u001b[0;34m(self, key, axis)\u001b[0m\n\u001b[1;32m   1952\u001b[0m                     \u001b[0;32mraise\u001b[0m \u001b[0mValueError\u001b[0m\u001b[0;34m(\u001b[0m\u001b[0;34m\"Cannot index with multidimensional key\"\u001b[0m\u001b[0;34m)\u001b[0m\u001b[0;34m\u001b[0m\u001b[0;34m\u001b[0m\u001b[0m\n\u001b[1;32m   1953\u001b[0m \u001b[0;34m\u001b[0m\u001b[0m\n\u001b[0;32m-> 1954\u001b[0;31m                 \u001b[0;32mreturn\u001b[0m \u001b[0mself\u001b[0m\u001b[0;34m.\u001b[0m\u001b[0m_getitem_iterable\u001b[0m\u001b[0;34m(\u001b[0m\u001b[0mkey\u001b[0m\u001b[0;34m,\u001b[0m \u001b[0maxis\u001b[0m\u001b[0;34m=\u001b[0m\u001b[0maxis\u001b[0m\u001b[0;34m)\u001b[0m\u001b[0;34m\u001b[0m\u001b[0;34m\u001b[0m\u001b[0m\n\u001b[0m\u001b[1;32m   1955\u001b[0m \u001b[0;34m\u001b[0m\u001b[0m\n\u001b[1;32m   1956\u001b[0m             \u001b[0;31m# nested tuple slicing\u001b[0m\u001b[0;34m\u001b[0m\u001b[0;34m\u001b[0m\u001b[0;34m\u001b[0m\u001b[0m\n",
      "\u001b[0;32m~/anaconda3/envs/metis/lib/python3.7/site-packages/pandas/core/indexing.py\u001b[0m in \u001b[0;36m_getitem_iterable\u001b[0;34m(self, key, axis)\u001b[0m\n\u001b[1;32m   1593\u001b[0m         \u001b[0;32melse\u001b[0m\u001b[0;34m:\u001b[0m\u001b[0;34m\u001b[0m\u001b[0;34m\u001b[0m\u001b[0m\n\u001b[1;32m   1594\u001b[0m             \u001b[0;31m# A collection of keys\u001b[0m\u001b[0;34m\u001b[0m\u001b[0;34m\u001b[0m\u001b[0;34m\u001b[0m\u001b[0m\n\u001b[0;32m-> 1595\u001b[0;31m             \u001b[0mkeyarr\u001b[0m\u001b[0;34m,\u001b[0m \u001b[0mindexer\u001b[0m \u001b[0;34m=\u001b[0m \u001b[0mself\u001b[0m\u001b[0;34m.\u001b[0m\u001b[0m_get_listlike_indexer\u001b[0m\u001b[0;34m(\u001b[0m\u001b[0mkey\u001b[0m\u001b[0;34m,\u001b[0m \u001b[0maxis\u001b[0m\u001b[0;34m,\u001b[0m \u001b[0mraise_missing\u001b[0m\u001b[0;34m=\u001b[0m\u001b[0;32mFalse\u001b[0m\u001b[0;34m)\u001b[0m\u001b[0;34m\u001b[0m\u001b[0;34m\u001b[0m\u001b[0m\n\u001b[0m\u001b[1;32m   1596\u001b[0m             return self.obj._reindex_with_indexers(\n\u001b[1;32m   1597\u001b[0m                 \u001b[0;34m{\u001b[0m\u001b[0maxis\u001b[0m\u001b[0;34m:\u001b[0m \u001b[0;34m[\u001b[0m\u001b[0mkeyarr\u001b[0m\u001b[0;34m,\u001b[0m \u001b[0mindexer\u001b[0m\u001b[0;34m]\u001b[0m\u001b[0;34m}\u001b[0m\u001b[0;34m,\u001b[0m \u001b[0mcopy\u001b[0m\u001b[0;34m=\u001b[0m\u001b[0;32mTrue\u001b[0m\u001b[0;34m,\u001b[0m \u001b[0mallow_dups\u001b[0m\u001b[0;34m=\u001b[0m\u001b[0;32mTrue\u001b[0m\u001b[0;34m\u001b[0m\u001b[0;34m\u001b[0m\u001b[0m\n",
      "\u001b[0;32m~/anaconda3/envs/metis/lib/python3.7/site-packages/pandas/core/indexing.py\u001b[0m in \u001b[0;36m_get_listlike_indexer\u001b[0;34m(self, key, axis, raise_missing)\u001b[0m\n\u001b[1;32m   1551\u001b[0m \u001b[0;34m\u001b[0m\u001b[0m\n\u001b[1;32m   1552\u001b[0m         self._validate_read_indexer(\n\u001b[0;32m-> 1553\u001b[0;31m             \u001b[0mkeyarr\u001b[0m\u001b[0;34m,\u001b[0m \u001b[0mindexer\u001b[0m\u001b[0;34m,\u001b[0m \u001b[0mo\u001b[0m\u001b[0;34m.\u001b[0m\u001b[0m_get_axis_number\u001b[0m\u001b[0;34m(\u001b[0m\u001b[0maxis\u001b[0m\u001b[0;34m)\u001b[0m\u001b[0;34m,\u001b[0m \u001b[0mraise_missing\u001b[0m\u001b[0;34m=\u001b[0m\u001b[0mraise_missing\u001b[0m\u001b[0;34m\u001b[0m\u001b[0;34m\u001b[0m\u001b[0m\n\u001b[0m\u001b[1;32m   1554\u001b[0m         )\n\u001b[1;32m   1555\u001b[0m         \u001b[0;32mreturn\u001b[0m \u001b[0mkeyarr\u001b[0m\u001b[0;34m,\u001b[0m \u001b[0mindexer\u001b[0m\u001b[0;34m\u001b[0m\u001b[0;34m\u001b[0m\u001b[0m\n",
      "\u001b[0;32m~/anaconda3/envs/metis/lib/python3.7/site-packages/pandas/core/indexing.py\u001b[0m in \u001b[0;36m_validate_read_indexer\u001b[0;34m(self, key, indexer, axis, raise_missing)\u001b[0m\n\u001b[1;32m   1638\u001b[0m             \u001b[0;32mif\u001b[0m \u001b[0mmissing\u001b[0m \u001b[0;34m==\u001b[0m \u001b[0mlen\u001b[0m\u001b[0;34m(\u001b[0m\u001b[0mindexer\u001b[0m\u001b[0;34m)\u001b[0m\u001b[0;34m:\u001b[0m\u001b[0;34m\u001b[0m\u001b[0;34m\u001b[0m\u001b[0m\n\u001b[1;32m   1639\u001b[0m                 \u001b[0maxis_name\u001b[0m \u001b[0;34m=\u001b[0m \u001b[0mself\u001b[0m\u001b[0;34m.\u001b[0m\u001b[0mobj\u001b[0m\u001b[0;34m.\u001b[0m\u001b[0m_get_axis_name\u001b[0m\u001b[0;34m(\u001b[0m\u001b[0maxis\u001b[0m\u001b[0;34m)\u001b[0m\u001b[0;34m\u001b[0m\u001b[0;34m\u001b[0m\u001b[0m\n\u001b[0;32m-> 1640\u001b[0;31m                 \u001b[0;32mraise\u001b[0m \u001b[0mKeyError\u001b[0m\u001b[0;34m(\u001b[0m\u001b[0;34mf\"None of [{key}] are in the [{axis_name}]\"\u001b[0m\u001b[0;34m)\u001b[0m\u001b[0;34m\u001b[0m\u001b[0;34m\u001b[0m\u001b[0m\n\u001b[0m\u001b[1;32m   1641\u001b[0m \u001b[0;34m\u001b[0m\u001b[0m\n\u001b[1;32m   1642\u001b[0m             \u001b[0;31m# We (temporarily) allow for some missing keys with .loc, except in\u001b[0m\u001b[0;34m\u001b[0m\u001b[0;34m\u001b[0m\u001b[0;34m\u001b[0m\u001b[0m\n",
      "\u001b[0;31mKeyError\u001b[0m: \"None of [Int64Index([32], dtype='int64')] are in the [index]\""
     ]
    }
   ],
   "source": [
    "for i in range(len(de_duped_books)):\n",
    "    if type(de_duped_books.loc[[i]]['isbn13']) == str:\n",
    "        de_duped_books.loc[[i]]['isbn13'] = de_duped_books.loc[[i]]['isbn13'].str.replace(\"'\", '')"
   ]
  },
  {
   "cell_type": "code",
   "execution_count": 9,
   "metadata": {},
   "outputs": [
    {
     "data": {
      "text/plain": [
       "0                 NaN\n",
       "1                 NaN\n",
       "2                 NaN\n",
       "3                 NaN\n",
       "4                 NaN\n",
       "            ...      \n",
       "8857    9781480563759\n",
       "8858    9781469266879\n",
       "8859    9781619691926\n",
       "8860    9781515913054\n",
       "8861    9781543688214\n",
       "Name: isbn13, Length: 7561, dtype: object"
      ]
     },
     "execution_count": 9,
     "metadata": {},
     "output_type": "execute_result"
    }
   ],
   "source": [
    "de_duped_books['isbn13']"
   ]
  },
  {
   "cell_type": "code",
   "execution_count": null,
   "metadata": {},
   "outputs": [],
   "source": [
    "book_topics = smaller_books[['isbn13','3_love_stories', '4_big_life_changes', '5_strong_characters',\n",
    "       '6_world_war_II', '7_family_sagas_intergenerational', '8_time_travel',\n",
    "       '9_erotic_vampires', '10_women', '11_murder_crime_mystery',\n",
    "       '14_places_journeys', '15_holidays_christmas_warmth', '16_world_global',\n",
    "       '17_generic', '18_family_parents', '19_men_power',\n",
    "       '20_business_choices', '21_parents_young_children', '22_historical_USA',\n",
    "        '24_science_fiction', '25_places_journeys',\n",
    "       '26_firsts', '27_friendship', '28_coming_home',\n",
    "       '29_secret_discoveries']]"
   ]
  },
  {
   "cell_type": "code",
   "execution_count": null,
   "metadata": {
    "scrolled": true
   },
   "outputs": [],
   "source": [
    "#Pure subject and average rating (topics only), not accounting for popularity\n",
    "pairwise = pd.DataFrame(\n",
    "    squareform(pdist(de_duped_books[['3_love_stories', '4_big_life_changes', '5_strong_characters',\n",
    "       '6_world_war_II', '7_family_sagas_intergenerational', '8_time_travel',\n",
    "       '9_erotic_vampires', '10_women', '11_murder_crime_mystery',\n",
    "       '14_places_journeys', '15_holidays_christmas_warmth', '16_world_global',\n",
    "       '17_generic', '18_family_parents', '19_men_power',\n",
    "       '20_business_choices', '21_parents_young_children', '22_historical_USA',\n",
    "        '24_science_fiction', '25_places_journeys',\n",
    "       '26_firsts', '27_friendship', '28_coming_home',\n",
    "       '29_secret_discoveries']])),\n",
    "    columns = de_duped_books.isbn13,\n",
    "    index = de_duped_books.isbn13\n",
    ")"
   ]
  },
  {
   "cell_type": "code",
   "execution_count": null,
   "metadata": {},
   "outputs": [],
   "source": [
    "pairwise = pd.DataFrame(\n",
    "    squareform(pdist(de_duped_test[['3_love_stories', '4_big_life_changes', '5_strong_characters',\n",
    "       '6_world_war_II', '7_family_sagas_intergenerational', '8_time_travel',\n",
    "       '9_erotic_vampires', '10_women', '11_murder_crime_mystery',\n",
    "       '14_places_journeys', '15_holidays_christmas_warmth', '16_world_global',\n",
    "       '17_generic', '18_family_parents', '19_men_power',\n",
    "       '20_business_choices', '21_parents_young_children', '22_historical_USA',\n",
    "        '24_science_fiction', '25_places_journeys',\n",
    "       '26_firsts', '27_friendship', '28_coming_home',\n",
    "       '29_secret_discoveries']])),\n",
    "    columns = de_duped_test.isbn13,\n",
    "    index = de_duped_test.isbn13\n",
    ")"
   ]
  },
  {
   "cell_type": "code",
   "execution_count": null,
   "metadata": {},
   "outputs": [],
   "source": [
    "pairwise.index"
   ]
  },
  {
   "cell_type": "code",
   "execution_count": null,
   "metadata": {},
   "outputs": [],
   "source": [
    "pairwise.tail()"
   ]
  },
  {
   "cell_type": "code",
   "execution_count": null,
   "metadata": {},
   "outputs": [],
   "source": [
    "column_list = ['3_love_stories', '4_big_life_changes', \n",
    "               '5_strong_characters', '6_world_war_II', \n",
    "               '7_family_sagas_intergenerational', '8_time_travel',\n",
    "               '9_erotic_vampires', '10_women', \n",
    "               '11_murder_crime_mystery','14_places_journeys', \n",
    "               '15_holidays_christmas_warmth', '16_world_global',\n",
    "               '18_family_parents', '19_men_power',\n",
    "               '20_business_choices', '21_parents_young_children', \n",
    "               '22_historical_USA',\n",
    "               '24_science_fiction', '25_places_journeys',\n",
    "               '26_firsts', '27_friendship', \n",
    "               '28_coming_home','29_secret_discoveries']"
   ]
  },
  {
   "cell_type": "code",
   "execution_count": null,
   "metadata": {},
   "outputs": [],
   "source": [
    "topic_list = ['Love stories', 'Big life changes', \n",
    "              'Strong characters', 'World War II', \n",
    "              'Family sagas/intergenerational','Time travel', \n",
    "              'Erotic/paranormal/vampires', 'Women', \n",
    "              'Murder/crime mysteries', 'Places and journeys',\n",
    "             'Holidays and/or Christmas', 'The world',\n",
    "              'Family and parents', 'Men',\n",
    "              'Business and choices', 'Parents and young children',\n",
    "             'Historical fiction - USA', \n",
    "              'Science fiction', 'Travel and journeys',\n",
    "             'Firsts', 'Friendship', \n",
    "              'Coming home', 'Secrets and discoveries']"
   ]
  },
  {
   "cell_type": "code",
   "execution_count": null,
   "metadata": {},
   "outputs": [],
   "source": [
    "mask = de_duped_books['title'].str.contains('queenie', regex=True)"
   ]
  },
  {
   "cell_type": "code",
   "execution_count": null,
   "metadata": {
    "scrolled": true
   },
   "outputs": [],
   "source": [
    "de_duped_books[mask].isbn13"
   ]
  },
  {
   "cell_type": "code",
   "execution_count": null,
   "metadata": {},
   "outputs": [],
   "source": [
    "#Recommender based solely on topics, no meta-data. Some good recommendations, some bad."
   ]
  },
  {
   "cell_type": "markdown",
   "metadata": {},
   "source": [
    "Good recommendations:\n",
    "* Normal People/The Electric Michelangelo\n",
    "\n",
    "OK recommendations:\n",
    "* Where the Crawdads Sing/The Mystery Woman\n",
    "* The Far Field/Priscilla: Engaging in the Game of Politics\n",
    "* Queenie/The Shore of Women\n",
    "* Miracle Creek/The Patriot Threat\n",
    "\n",
    "Bad recommendations:\n",
    "\n",
    "    "
   ]
  },
  {
   "cell_type": "code",
   "execution_count": null,
   "metadata": {},
   "outputs": [],
   "source": [
    "pairwise.columns"
   ]
  },
  {
   "cell_type": "code",
   "execution_count": null,
   "metadata": {
    "scrolled": true
   },
   "outputs": [],
   "source": [
    "most_similar(9781508277996)"
   ]
  },
  {
   "cell_type": "code",
   "execution_count": null,
   "metadata": {},
   "outputs": [],
   "source": [
    "most_similar(9780062049827)"
   ]
  },
  {
   "cell_type": "code",
   "execution_count": null,
   "metadata": {},
   "outputs": [],
   "source": [
    "scaler = preprocessing.StandardScaler()"
   ]
  },
  {
   "cell_type": "code",
   "execution_count": null,
   "metadata": {},
   "outputs": [],
   "source": [
    "scaled_data = de_duped_books[['isbn13','avg_rating', 'ratings_count',\n",
    "       'text_reviews_count', 'num_pages', 'bestseller',\n",
    "       '5-star', '4-star', '3-star', '2-star', '1-star', 'total',\n",
    "       '3_love_stories', '4_big_life_changes', '5_strong_characters',\n",
    "       '6_world_war_II', '7_family_sagas_intergenerational', '8_time_travel',\n",
    "       '9_erotic_vampires', '10_women', '11_murder_crime_mystery',\n",
    "       '14_places_journeys', '15_holidays_christmas_warmth', '16_world_global',\n",
    "       '17_generic', '18_family_parents', '19_men_power',\n",
    "       '20_business_choices', '21_parents_young_children', '22_historical_USA',\n",
    "        '24_science_fiction', '25_places_journeys',\n",
    "       '26_firsts', '27_friendship', '28_coming_home',\n",
    "       '29_secret_discoveries']]"
   ]
  },
  {
   "cell_type": "code",
   "execution_count": null,
   "metadata": {},
   "outputs": [],
   "source": [
    "scaled_data.set_index('isbn13')"
   ]
  },
  {
   "cell_type": "code",
   "execution_count": null,
   "metadata": {},
   "outputs": [],
   "source": [
    "scaled_df = scaler.fit_transform(scaled_data)"
   ]
  },
  {
   "cell_type": "code",
   "execution_count": null,
   "metadata": {},
   "outputs": [],
   "source": [
    "scaled_df = pd.DataFrame(scaled_df, columns=scaled_data.columns, index=scaled_data.isbn13)"
   ]
  },
  {
   "cell_type": "code",
   "execution_count": null,
   "metadata": {},
   "outputs": [],
   "source": [
    "scaled_df = scaled_df.drop(['isbn13'], axis=1)"
   ]
  },
  {
   "cell_type": "code",
   "execution_count": null,
   "metadata": {},
   "outputs": [],
   "source": [
    "#Next steps: drop NAN from scaled DF, create pairwise DF and build new recommender"
   ]
  },
  {
   "cell_type": "code",
   "execution_count": null,
   "metadata": {},
   "outputs": [],
   "source": [
    "scaled_df = scaled_df.fillna(0)"
   ]
  },
  {
   "cell_type": "code",
   "execution_count": null,
   "metadata": {},
   "outputs": [],
   "source": [
    "pairwise_2 = pd.DataFrame(\n",
    "    squareform(pdist(scaled_df)),\n",
    "    columns = de_duped_books['isbn13'],\n",
    "    index = de_duped_books['isbn13']\n",
    ")"
   ]
  },
  {
   "cell_type": "code",
   "execution_count": null,
   "metadata": {},
   "outputs": [],
   "source": [
    "mask = de_duped_books['title'].str.contains('crawdads', regex=True)"
   ]
  },
  {
   "cell_type": "code",
   "execution_count": null,
   "metadata": {},
   "outputs": [],
   "source": [
    "de_duped_books[mask].isbn13"
   ]
  },
  {
   "cell_type": "code",
   "execution_count": null,
   "metadata": {},
   "outputs": [],
   "source": [
    "def most_similar(isbn):\n",
    "    topic_dict = {}\n",
    "    new_topic_dict = {}\n",
    "    user_book = de_duped_books[de_duped_books['isbn13']==isbn]\n",
    "    for i in range(len(column_list)):\n",
    "        topic_dict[topic_list[i]] = list(user_book[column_list[i]])\n",
    "    print('Main topics in the book you liked:','\\n', ', '.join(list({k: v for k, v in sorted(topic_dict.items(), key=lambda item: item[1], reverse=True)})[0:3]))\n",
    "    original_book = pairwise[pairwise.index==isbn]\n",
    "    original_book = original_book.drop(isbn, axis=1)\n",
    "    min_index_1 = original_book.idxmin(axis=1)\n",
    "    closest_isbn = list(min_index_1)[0]\n",
    "    new_book = de_duped_books[de_duped_books['isbn13']==closest_isbn]\n",
    "    for i in range(len(column_list)):\n",
    "        new_topic_dict[topic_list[i]] = list(new_book[column_list[i]])\n",
    "    print('\\n','Based on these topics, you might also like:', '\\n', ''.join(list(de_duped_books[de_duped_books['isbn13']==closest_isbn]['title'])[0].title()),'\\n', 'by', ''.join((list(de_duped_books[de_duped_books['isbn13']==closest_isbn]['authors'])[0])))\n",
    "    print('\\n','Its main topics are:','\\n', ', '.join(list({k: v for k, v in sorted(new_topic_dict.items(), key=lambda item: item[1], reverse=True)})[0:3]))"
   ]
  },
  {
   "cell_type": "code",
   "execution_count": null,
   "metadata": {},
   "outputs": [],
   "source": [
    "#Most similar with meta data and topics\n",
    "def most_similar_meta(isbn):\n",
    "    print('You entered:', list(de_duped_books[de_duped_books['isbn13']==isbn].title)[0].title(),'by', list(de_duped_books[de_duped_books['isbn13']==isbn]['authors'])[0], sep = ' ')\n",
    "    original_book = pairwise_2[pairwise_2.index==isbn]\n",
    "    original_book = original_book.drop(isbn, axis=1)\n",
    "    min_index_1 = original_book.idxmin(axis=1)\n",
    "    closest_isbn = list(min_index_1)[0]\n",
    "    print('You might also like:', (list(de_duped_books[de_duped_books['isbn13']==closest_isbn]['title'])[0].title()), 'by', list(de_duped_books[de_duped_books['isbn13']==closest_isbn]['authors'])[0])"
   ]
  },
  {
   "cell_type": "code",
   "execution_count": null,
   "metadata": {},
   "outputs": [],
   "source": [
    "most_similar_meta(9780735219113)"
   ]
  },
  {
   "cell_type": "markdown",
   "metadata": {},
   "source": [
    "Good recs: \n",
    "* Evvie Drake Starts Over/Silver Girl\n",
    "* Convenience Store Woman/Griffin Sabine An Extraordinary Correspondance\n",
    "* Where the Crawdads Sing/The Goldfinch\n",
    "\n",
    "OK recs: \n",
    "* Miracle Creek/White Shadow\n",
    "* Nickel Boys/Play (Stage Dive)\n",
    "* The Witch Elm/The Water Dancer\n",
    "* Such a Fun Age/The Death of Mrs. Westaway\n",
    "* The Far Field/The Off Season\n",
    "\n",
    "Bad recs: \n",
    "* Severance/Paul Rusch In Postwar Japan  Evangelism  Rural Development  And The Battle Against Communism\n",
    "* The Dutch House/Doctor Sleep"
   ]
  }
 ],
 "metadata": {
  "kernelspec": {
   "display_name": "Python [conda env:metis] *",
   "language": "python",
   "name": "conda-env-metis-py"
  },
  "language_info": {
   "codemirror_mode": {
    "name": "ipython",
    "version": 3
   },
   "file_extension": ".py",
   "mimetype": "text/x-python",
   "name": "python",
   "nbconvert_exporter": "python",
   "pygments_lexer": "ipython3",
   "version": "3.7.4"
  }
 },
 "nbformat": 4,
 "nbformat_minor": 4
}
