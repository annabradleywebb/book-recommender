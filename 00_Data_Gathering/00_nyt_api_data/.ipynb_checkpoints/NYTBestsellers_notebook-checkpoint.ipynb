{
 "cells": [
  {
   "cell_type": "markdown",
   "metadata": {},
   "source": [
    "### Step 1: Using the New York Times book API, make a dataframe with all available bestseller list data\n"
   ]
  },
  {
   "cell_type": "code",
   "execution_count": 1,
   "metadata": {},
   "outputs": [],
   "source": [
    "from pynytimes import NYTAPI\n",
    "import pandas as pd\n",
    "import time\n",
    "import datetime\n",
    "import pickle\n",
    "from NYTBestsellers import make_book_dict"
   ]
  },
  {
   "cell_type": "code",
   "execution_count": 2,
   "metadata": {},
   "outputs": [],
   "source": [
    "nyt = NYTAPI(\"zGV69ykj5g4JnfrsU9mYxMDVnwR5ncDd\")"
   ]
  },
  {
   "cell_type": "markdown",
   "metadata": {},
   "source": [
    "Date list: earliest available data is from 03/2011 through current week"
   ]
  },
  {
   "cell_type": "code",
   "execution_count": 3,
   "metadata": {},
   "outputs": [],
   "source": [
    "date_list = []\n",
    "for j in range(3, 13):\n",
    "    for k in range(1,30,7):\n",
    "        date_list.append((2011,j,k))       \n",
    "        \n",
    "for i in range(2012, 2020):\n",
    "    for j in range(1, 13):\n",
    "        for k in range(1,30,7):\n",
    "            date_list.append((i,j,k))\n",
    "\n",
    "for j in range(1, 6):\n",
    "    for k in range(1,30,7):\n",
    "        date_list.append((2020,j,k))"
   ]
  },
  {
   "cell_type": "code",
   "execution_count": null,
   "metadata": {},
   "outputs": [],
   "source": [
    "#Note: function takes about 50 minutes to run, do not recommend replicating. A pickle file with the data from this function is used from here.\n",
    "bestseller_df = make_book_dict(date_list)"
   ]
  },
  {
   "cell_type": "code",
   "execution_count": null,
   "metadata": {},
   "outputs": [],
   "source": [
    "bestseller_df.to_pickle('bestsellers.csv')\n",
    "with open(‘../pathname/source_object_name.pkl’, ‘wb’) as f:\n",
    "    pickle.dump(object_name, f)"
   ]
  },
  {
   "cell_type": "code",
   "execution_count": null,
   "metadata": {},
   "outputs": [],
   "source": [
    "bestseller_df = pickle.load(open( \"bestsellers.csv\", \"rb\"))"
   ]
  },
  {
   "cell_type": "markdown",
   "metadata": {},
   "source": [
    "Clean dataframe:"
   ]
  },
  {
   "cell_type": "code",
   "execution_count": null,
   "metadata": {},
   "outputs": [],
   "source": [
    "bestseller_df.date = bestseller_df.date.str.replace(\"(\", '')"
   ]
  },
  {
   "cell_type": "code",
   "execution_count": null,
   "metadata": {},
   "outputs": [],
   "source": [
    "bestseller_df.date = bestseller_df.date.str.replace(')', '')"
   ]
  },
  {
   "cell_type": "code",
   "execution_count": null,
   "metadata": {},
   "outputs": [],
   "source": [
    "bestseller_df.date = pd.to_datetime(bestseller_df.date)"
   ]
  },
  {
   "cell_type": "code",
   "execution_count": null,
   "metadata": {},
   "outputs": [],
   "source": [
    "bestseller_df.to_pickle('clean_bestsellers.csv')"
   ]
  },
  {
   "cell_type": "markdown",
   "metadata": {},
   "source": [
    "Make a smaller df with relevant columns, re-pickle."
   ]
  },
  {
   "cell_type": "code",
   "execution_count": null,
   "metadata": {},
   "outputs": [],
   "source": [
    "smaller_bestsellers = bestseller_df.drop(['asterisk','dagger','book_image', 'book_image_width', 'book_image_height', 'amazon_product_url', 'buy_links', 'book_uri'], axis=1)"
   ]
  },
  {
   "cell_type": "code",
   "execution_count": null,
   "metadata": {},
   "outputs": [],
   "source": [
    "pd.set_option('display.float_format', lambda x: '%.5f' % x)"
   ]
  },
  {
   "cell_type": "code",
   "execution_count": null,
   "metadata": {},
   "outputs": [],
   "source": [
    "smaller_bestsellers.to_csv('smaller_bestseller_list_2.csv')"
   ]
  },
  {
   "cell_type": "code",
   "execution_count": null,
   "metadata": {},
   "outputs": [],
   "source": [
    "nyt_goodreads = pd.read_csv('nyt_goodreads_data.csv')"
   ]
  },
  {
   "cell_type": "code",
   "execution_count": null,
   "metadata": {},
   "outputs": [],
   "source": [
    "nyt_goodreads = nyt_goodreads.drop(['Unnamed: 0'], axis=1)"
   ]
  }
 ],
 "metadata": {
  "kernelspec": {
   "display_name": "Python [conda env:metis] *",
   "language": "python",
   "name": "conda-env-metis-py"
  },
  "language_info": {
   "codemirror_mode": {
    "name": "ipython",
    "version": 3
   },
   "file_extension": ".py",
   "mimetype": "text/x-python",
   "name": "python",
   "nbconvert_exporter": "python",
   "pygments_lexer": "ipython3",
   "version": "3.7.4"
  }
 },
 "nbformat": 4,
 "nbformat_minor": 4
}
