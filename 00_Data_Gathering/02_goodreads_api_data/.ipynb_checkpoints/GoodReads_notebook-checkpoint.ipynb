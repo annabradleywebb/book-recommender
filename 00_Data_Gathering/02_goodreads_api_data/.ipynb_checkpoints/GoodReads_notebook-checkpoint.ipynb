{
 "cells": [
  {
   "cell_type": "code",
   "execution_count": 1,
   "metadata": {},
   "outputs": [],
   "source": [
    "#Imports\n",
    "from goodreads import client\n",
    "import pandas as pd\n",
    "import pickle\n",
    "import time\n",
    "from goodreads.request import GoodreadsRequest\n",
    "from goodreads.request import GoodreadsRequestException\n",
    "from GoodReads import goodreads_df, goodreads_df_list\n",
    "from numpy import random\n"
   ]
  },
  {
   "cell_type": "code",
   "execution_count": null,
   "metadata": {},
   "outputs": [],
   "source": [
    "#Setting up API keys\n",
    "gc = client.GoodreadsClient('fwPQlCIO7e2UGe7ETreIA', 'eAedByj5h9CvGwNft0pTpjGtrCrS6Ong9BSHxLWew')"
   ]
  },
  {
   "cell_type": "code",
   "execution_count": null,
   "metadata": {},
   "outputs": [],
   "source": [
    "#Import data from NYT bestseller dataframe\n",
    "bestseller_df = pd.read_pickle('clean_bestsellers.csv')\n",
    "bestseller_df = bestseller_df.reset_index() "
   ]
  },
  {
   "cell_type": "code",
   "execution_count": null,
   "metadata": {},
   "outputs": [],
   "source": [
    "#Make a list of unique ISBNs from NYT bestseller data\n",
    "unique_isbns13 = [] "
   ]
  },
  {
   "cell_type": "code",
   "execution_count": null,
   "metadata": {},
   "outputs": [],
   "source": [
    "for isbn in bestseller_df.primary_isbn13:\n",
    "    if isbn not in unique_isbns13:\n",
    "        unique_isbns13.append(isbn)"
   ]
  },
  {
   "cell_type": "code",
   "execution_count": null,
   "metadata": {},
   "outputs": [],
   "source": [
    "#Clean list\n",
    "unique_isbns13 = [x for x in unique_isbns13 if x != '']\n",
    "unique_isbns13 = [x for x in unique_isbns13 if x[0] != 'A']"
   ]
  },
  {
   "cell_type": "markdown",
   "metadata": {},
   "source": [
    "#### 1. Using the list of ISBNs from the NYT Bestseller dataframe, pull Goodreads data"
   ]
  },
  {
   "cell_type": "code",
   "execution_count": null,
   "metadata": {},
   "outputs": [],
   "source": [
    "#Very long runtime, do not replicate\n",
    "nyt_goodreads_data = goodreads_df(unique_isbns13)"
   ]
  },
  {
   "cell_type": "code",
   "execution_count": null,
   "metadata": {},
   "outputs": [],
   "source": [
    "nyt_goodreads_data.to_csv('nyt_goodreads_data.csv')"
   ]
  },
  {
   "cell_type": "markdown",
   "metadata": {},
   "source": [
    "#### Using a list of other published books, remove any bestsellers and pull Goodreads data"
   ]
  },
  {
   "cell_type": "code",
   "execution_count": null,
   "metadata": {},
   "outputs": [],
   "source": [
    "with open('kaggle_isbns.pkl', 'rb') as f:\n",
    "    kaggle_isbns = pickle.load(f)"
   ]
  },
  {
   "cell_type": "code",
   "execution_count": null,
   "metadata": {},
   "outputs": [],
   "source": [
    "kaggle_isbns = [x for x in kaggle_isbns if x not in unique_isbns13]"
   ]
  },
  {
   "cell_type": "code",
   "execution_count": null,
   "metadata": {},
   "outputs": [],
   "source": [
    "kaggle_goodreads_data_1 = goodreads_df(kaggle_isbns[0:5000])"
   ]
  },
  {
   "cell_type": "code",
   "execution_count": null,
   "metadata": {},
   "outputs": [],
   "source": [
    "kaggle_goodreads_data_1.to_pickle('kaggle_goodreads_1.pkl') "
   ]
  },
  {
   "cell_type": "markdown",
   "metadata": {},
   "source": [
    "Working in chunks because the Goodreads API only allows for 1 book request per second:"
   ]
  },
  {
   "cell_type": "code",
   "execution_count": null,
   "metadata": {},
   "outputs": [],
   "source": [
    "random_list = list(random.randint(15001, 113306, 5000))"
   ]
  },
  {
   "cell_type": "code",
   "execution_count": null,
   "metadata": {},
   "outputs": [],
   "source": [
    "int_rand_list = list(random.randint(15001, 113306, 10000))\n",
    "int_rand_list = [x for x in int_rand_list if x not in random_list]"
   ]
  },
  {
   "cell_type": "code",
   "execution_count": null,
   "metadata": {},
   "outputs": [],
   "source": [
    "another_rand_list = list(random.randint(15001, 113306, 12000))\n",
    "another_rand_list = [x for x in another_rand_list if x not in random_list]\n",
    "another_rand_list = [x for x in another_rand_list if x not in int_rand_list]"
   ]
  },
  {
   "cell_type": "code",
   "execution_count": null,
   "metadata": {},
   "outputs": [],
   "source": [
    "#Do not replicate, very long runtime.\n",
    "kaggle_goodreads_data_2 = goodreads_df(kaggle_isbns[5001:10000])\n",
    "kaggle_goodreads_data_3 = goodreads_df(kaggle_isbns[10001:15000])\n",
    "kaggle_goodreads_data_4 = goodreads_df(random_list)\n",
    "kaggle_goodreads_data_5 = goodreads_df(int_rand_list)\n",
    "kaggle_goodreads_6 = goodreads_df(another_rand_list)"
   ]
  },
  {
   "cell_type": "code",
   "execution_count": null,
   "metadata": {},
   "outputs": [],
   "source": [
    "#Saving files.\n",
    "kaggle_goodreads_data_2.to_pickle('kaggle_goodreads_2.pkl') \n",
    "kaggle_goodreads_data_3.to_pickle('kaggle_goodreads_3.pkl') \n",
    "kaggle_goodreads_data_4.to_pickle('kaggle_goodreads_4.pkl') \n",
    "kaggle_goodreads_data_5.to_pickle('kaggle_goodreads_data_5.pkl')\n",
    "kaggle_goodreads_6.to_pickle('kaggle_goodreads_6.pkl')"
   ]
  },
  {
   "cell_type": "code",
   "execution_count": null,
   "metadata": {},
   "outputs": [],
   "source": [
    "kaggle_goodreads_data_2 = kaggle_goodreads_data_2.drop(['popular_shelves'],axis=1)"
   ]
  }
 ],
 "metadata": {
  "kernelspec": {
   "display_name": "Python [conda env:metis] *",
   "language": "python",
   "name": "conda-env-metis-py"
  },
  "language_info": {
   "codemirror_mode": {
    "name": "ipython",
    "version": 3
   },
   "file_extension": ".py",
   "mimetype": "text/x-python",
   "name": "python",
   "nbconvert_exporter": "python",
   "pygments_lexer": "ipython3",
   "version": "3.7.4"
  }
 },
 "nbformat": 4,
 "nbformat_minor": 4
}
